{
 "cells": [
  {
   "cell_type": "code",
   "execution_count": 1,
   "metadata": {},
   "outputs": [],
   "source": [
    "%load_ext autoreload\n",
    "%autoreload 2"
   ]
  },
  {
   "cell_type": "markdown",
   "metadata": {
    "vscode": {
     "languageId": "raw"
    }
   },
   "source": [
    "## DiMA: Protein Sampling Example\n",
    "\n",
    "This notebook demonstrates how to use `DiMAModel` for protein sampling. It includes loading a pre-trained model and using its capabilities to generate new protein sequences.\n"
   ]
  },
  {
   "cell_type": "code",
   "execution_count": 7,
   "metadata": {},
   "outputs": [
    {
     "name": "stdout",
     "output_type": "stream",
     "text": [
      "Using device: cuda\n"
     ]
    }
   ],
   "source": [
    "import torch\n",
    "\n",
    "from src.diffusion.dima import DiMAModel\n",
    "\n",
    "device = torch.device(\"cuda\" if torch.cuda.is_available() else \"cpu\")\n",
    "print(f\"Using device: {device}\")"
   ]
  },
  {
   "cell_type": "code",
   "execution_count": 8,
   "metadata": {},
   "outputs": [
    {
     "name": "stdout",
     "output_type": "stream",
     "text": [
      "Warning: EncNormalizer state dict not found at /home/jovyan/shevtsov/DiMA/checkpoints/statistics/encodings-ESM2-3B.pth\n"
     ]
    },
    {
     "name": "stderr",
     "output_type": "stream",
     "text": [
      "/home/jovyan/.mlspace/envs/cheap_with_dif/lib/python3.10/site-packages/huggingface_hub/file_download.py:896: FutureWarning: `resume_download` is deprecated and will be removed in version 1.0.0. Downloads always resume when possible. If you want to force a new download, use `force_download=True`.\n",
      "  warnings.warn(\n"
     ]
    },
    {
     "data": {
      "application/vnd.jupyter.widget-view+json": {
       "model_id": "f6aa1c1c8f16402392937aef70d39665",
       "version_major": 2,
       "version_minor": 0
      },
      "text/plain": [
       "Loading checkpoint shards:   0%|          | 0/2 [00:00<?, ?it/s]"
      ]
     },
     "metadata": {},
     "output_type": "display_data"
    },
    {
     "name": "stdout",
     "output_type": "stream",
     "text": [
      "Decoder wasn't initialized\n"
     ]
    }
   ],
   "source": [
    "model = DiMAModel(config_path=\"../configs\", device=device)"
   ]
  },
  {
   "cell_type": "code",
   "execution_count": 9,
   "metadata": {},
   "outputs": [
    {
     "name": "stdout",
     "output_type": "stream",
     "text": [
      "Found local file: /home/jovyan/shevtsov/DiMA/checkpoints/diffusion_checkpoints/DiMA-bert_35M-ESM2_3B-AFDB/1000000.pth\n",
      "Local file not found. Attempting to download from S3: checkpoints/statistics/encodings-ESM2-3B.pth\n",
      "Downloading https://dima-protein-diffusion.s3.eu-north-1.amazonaws.com/checkpoints/statistics/encodings-ESM2-3B.pth to /home/jovyan/shevtsov/DiMA/checkpoints/statistics/encodings-ESM2-3B.pth...\n"
     ]
    },
    {
     "name": "stderr",
     "output_type": "stream",
     "text": [
      "encodings-ESM2-3B.pth: 100%|██████████| 21.5k/21.5k [00:00<00:00, 41.5MiB/s]\n"
     ]
    },
    {
     "name": "stdout",
     "output_type": "stream",
     "text": [
      "Local file not found. Attempting to download from S3: checkpoints/decoder_checkpoints/transformer-decoder-ESM2-3B.pth\n",
      "Downloading https://dima-protein-diffusion.s3.eu-north-1.amazonaws.com/checkpoints/decoder_checkpoints/transformer-decoder-ESM2-3B.pth to /home/jovyan/shevtsov/DiMA/checkpoints/decoder_checkpoints/transformer-decoder-ESM2-3B.pth...\n"
     ]
    },
    {
     "name": "stderr",
     "output_type": "stream",
     "text": [
      "transformer-decoder-ESM2-3B.pth: 100%|██████████| 911M/911M [00:16<00:00, 56.9MiB/s] \n",
      "/home/jovyan/shevtsov/DiMA/src/encoders/esm2.py:100: FutureWarning: You are using `torch.load` with `weights_only=False` (the current default value), which uses the default pickle module implicitly. It is possible to construct malicious pickle data which will execute arbitrary code during unpickling (See https://github.com/pytorch/pytorch/blob/main/SECURITY.md#untrusted-models for more details). In a future release, the default value for `weights_only` will be flipped to `True`. This limits the functions that could be executed during unpickling. Arbitrary objects will no longer be allowed to be loaded via this mode unless they are explicitly allowlisted by the user via `torch.serialization.add_safe_globals`. We recommend you start setting `weights_only=True` for any use case where you don't have full control of the loaded file. Please open an issue on GitHub for any issues related to this experimental feature.\n",
      "  self.sequence_decoder.load_state_dict(torch.load(decoder_path)[\"decoder\"])\n"
     ]
    }
   ],
   "source": [
    "model.load_pretrained()"
   ]
  },
  {
   "cell_type": "code",
   "execution_count": 10,
   "metadata": {},
   "outputs": [
    {
     "name": "stderr",
     "output_type": "stream",
     "text": [
      "100%|██████████| 2000/2000 [00:35<00:00, 56.93it/s]\n"
     ]
    }
   ],
   "source": [
    "sequences = model.generate_samples(num_texts=10)"
   ]
  },
  {
   "cell_type": "code",
   "execution_count": 11,
   "metadata": {},
   "outputs": [
    {
     "data": {
      "text/plain": [
       "['MEIARQIPDMKVLMPGDGADASLALKRAIEAEGPVIFMENKHCYLNTEYPAEYPMKIPELGKARTLRRGKDAIMVATGVTVGLALEVAAALEAEGVSCTVVDMHFVKPLDRETIVKVARGFGRILTIEEHCVAAGIGSAVAEVLGEEALSIPVMRAGIPDRSIQSGTAAEMLAEFGLDATHAAAMVREVIESAKSQ',\n",
       " 'MEIIVISSPGTDDSEAVVKEYARDYLDKVTYIVQDKLHNFTALCNTAFKMAKGIYAFLDSDDEWLENKVQLCVDAMLQSGADVAVSEYELIDEKGHKIMLSRPYPAVENIGYKLYFPQTFHPAQVYRKEVFEKLMSFRVELPGADDLELWLLVLRHTSVGYVKTDIARYRCANYGISGRVYFTARGLWLAYSKDLSFWDRFRYTLRQSVKWIYHLLKGKKKSGLFYFKYALYGFRFFLVNMVRR',\n",
       " 'GRGIEEVVGRFQEVRRENAEAILKGLITTQAYYSVEQALRVIEIASTVPEVVSLELVGDRLEGPGQDFSALCRAAFKKAKELGLPVTEHAGELPGAVYDAVELGASRIGHGVRSTAQEIEMVKNTKTTIELCPSSNLEMKVVQLSAHPFPELLRQGISLTLSTDNPEMDLKIFDELDLAIKTGGLTMGEILRMALESVMTSHAVPESARIRLLANLSLELKKALRFF',\n",
       " 'MLIAFIIILNLTNLLGDKLFVAPDEDWTNESFTLKYEIKGLIILVVIYAPIGEEIIFRGFMQRQLQKRMPILGTIITSLLFGLGHIFFTINLTSITIYQSIEYVLWGIILTIIYERTDKLWITIISHAIRDFIAILMILLGLC',\n",
       " 'MFQPDSAFGIASSASAVPPMQRVMLAGNFPIAGDLALARAQLYGNTTENDFQFLADLLIPTLQSRELAFRYMWAEGFCDDPKEPMTVADVKKRLGIALEKLPDYIRVMEAFVRAKEDALTKRVHIGFDVSIHYFQTRAGFGTEQDANAHLQRHLAIVAGMEKDGKFDKKALLTNYPTFTPESIHG',\n",
       " 'MMNLNDYKNQNLNNRNNYKTALNTLIRGLTYSGKIGEGGYSSVFIATHRKLDSEVAIKTVNSQSLLERKLFNILKFKQELQIFSNIKHPKIIQFFDVVSNDDFFVIVDLLVYGTLTDMLDNKKFPLLRVLFNLRGFCSAVADIHRNQILHRDLKP',\n",
       " 'MEVFFPAWQKVHELVPEAVFLLLGEPVKYRDAYERLAAKLGLDDIVNFVGRQPDVNRYYRACDVVIFPTTDFGETQSNVPVEALACGKPVVAYNLGGIPEIISPGENGLLVPPRDVDALTDRLLGLLTDPDLQKSMAAAARGKAHTEHTREKTGSFFEDLVRKAMQGGA',\n",
       " 'MNGDMTKLKSHYKFDLLISLGNTFNYMNDITELFSKSYSLLNLDGRFVLQVLDKDRVDEVLAGLPIDETIQIGDNVITQERKIQNDDIFFTIRISHQNKHFQSIVRVFSKNDITTLLQTNTFHIRNCWGDYKGDLFEVEDQRLIVKAEKIS',\n",
       " 'MEFVAPPFELAPDVENWRAVYDGNYGIFVQITVTNPSIRQAQNVALTWDGQAGTHLGYVPGQAPYTMTPNQSGKMMIPAGMFQVGMDGTLRQVQASDDGNNTRALHFFDTLGESLSVFIHNHRTRDNEMMIANATGRDNVEAYFSCSAGTGEVMGAALLGGEVTLEAGAAPYRVCEVNAPKGELVAIMMLDSLPDSLTDVHDATVMLEATK',\n",
       " 'MVINLKNLRIFFDTNVLLAMLDNNHPFHQHASEVIFKALKGEFLGWIPYQVLREFFAITSSRDILQPPLEYETAFETIQTLLSMNNVIIAPEKHNHLTIYTSLLQRYKVKGPQMHDAIHAAIMIEHGVTVILSFDSDFQKISGIQAFNPIEFMKEIRS']"
      ]
     },
     "execution_count": 11,
     "metadata": {},
     "output_type": "execute_result"
    }
   ],
   "source": [
    "sequences"
   ]
  }
 ],
 "metadata": {
  "kernelspec": {
   "display_name": "cheap_with_dif",
   "language": "python",
   "name": "python3"
  },
  "language_info": {
   "codemirror_mode": {
    "name": "ipython",
    "version": 3
   },
   "file_extension": ".py",
   "mimetype": "text/x-python",
   "name": "python",
   "nbconvert_exporter": "python",
   "pygments_lexer": "ipython3",
   "version": "3.10.0"
  }
 },
 "nbformat": 4,
 "nbformat_minor": 2
}
